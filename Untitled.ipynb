{
 "cells": [
  {
   "cell_type": "code",
   "execution_count": 1,
   "id": "052cf114",
   "metadata": {},
   "outputs": [],
   "source": [
    "\n",
    "import pandas as pd\n",
    "from pathlib import Path\n",
    "from sklearn.model_selection import train_test_split\n",
    "from sklearn.linear_model import LogisticRegression\n",
    "from sklearn.metrics import classification_report,confusion_matrix,accuracy_score\n",
    "from sklearn.preprocessing import StandardScaler\n",
    "from sklearn import tree\n",
    "from sklearn.ensemble import RandomForestClassifier\n",
    "from sklearn.neighbors import KNeighborsClassifier\n",
    "import warnings\n",
    "warnings.filterwarnings(\"ignore\")\n",
    "\n",
    "\n",
    "csv = Path(\"titanic.csv\")\n",
    "titanic_df = pd.read_csv(csv)\n",
    "titanic_df.head()\n",
    "\n",
    "\n",
    "#drop unecessary columns\n",
    "titanic_df = titanic_df.drop([\"name\",\"ticket\",\"cabin\",\"boat\",\"body\",\"home.dest\"], axis = 1)\n",
    "\n",
    "\n",
    "#get rid of missing values \n",
    "new_df = titanic_df.dropna()\n",
    "\n",
    "\n",
    "dummy_df = pd.get_dummies(new_df)\n",
    "dummy_df.head()\n",
    "\n",
    "# Getting target, features and train/testing/splitting the data \n",
    "y_rf = dummy_df[\"survived\"].values.reshape(-1, 1)\n",
    "X_rf = dummy_df.drop(\"survived\", axis = 1)\n",
    "X_trainRF, X_testRF, y_trainRF, y_testRF = train_test_split(X_rf, y_rf, random_state=1912)\n",
    "\n",
    "\n",
    "# Scaling the data \n",
    "scaler = StandardScaler()\n",
    "X_scalerRF = scaler.fit(X_trainRF)\n",
    "X_train_scaledRF = X_scalerRF.transform(X_trainRF)\n",
    "X_test_scaledRF = X_scalerRF.transform(X_testRF)\n",
    "\n",
    "\n",
    "# Creating the Random Forest mode\n",
    "rf_model = RandomForestClassifier(n_estimators=1000, random_state=78)\n",
    "\n",
    "\n",
    "# Fitting the model \n",
    "rf_model = rf_model.fit(X_train_scaledRF, y_trainRF.ravel())\n",
    "\n",
    "# Making predictions \n",
    "predictionsRF = rf_model.predict(X_test_scaledRF)\n",
    "\n",
    "# Getting the accuracy score \n",
    "accuracy_score(y_testRF,predictionsRF)\n",
    "\n",
    "\n",
    "def predict_titanic(demo_list):\n",
    "    male = 0\n",
    "    female = 0\n",
    "    embarked_C = 0\n",
    "    embarked_Q = 0\n",
    "    embarked_S = 0\n",
    "    \n",
    "    if demo_list[5] == \"M\":\n",
    "        female = 0 \n",
    "        male = 1\n",
    "    elif demo_list[5] == \"F\":\n",
    "        female = 1\n",
    "        male == 0\n",
    "    if demo_list[6] == \"Cherbourg\":\n",
    "        embarked_C = 1\n",
    "        embarked_Q = 0\n",
    "        embarked_S = 0\n",
    "    elif demo_list[6] == \"Queenstown\":\n",
    "        embarked_C = 0\n",
    "        embarked_Q = 1\n",
    "        embarked_S = 0 \n",
    "    elif demo_list[6] == \"Southampton\":\n",
    "        embarked_C = 0\n",
    "        embarked_Q = 0\n",
    "        embarked_S = 1\n",
    "    x_data = pd.DataFrame({\"pclass\": int(demo_list[0]),\n",
    "                           \"age\":int(demo_list[1]), \n",
    "                           \"sibsp\":int(demo_list[2]),\n",
    "                           \"parch\":int(demo_list[3]),\n",
    "                           \"fare\":int(demo_list[4]),\n",
    "                           \"sex_female\":female,\n",
    "                           \"sex_male\":male,\n",
    "                           \"embarked_C\":embarked_C,\n",
    "                          \"embarked_Q\":embarked_Q,\n",
    "                          \"embarked_S\":embarked_S},index=[0])\n",
    "    X_scaler = X_scalerRF.transform(x_data)\n",
    "    prediction = rf_model.predict(X_scaler)\n",
    "    if prediction[0] > 0:\n",
    "        return(\"survived\")\n",
    "    else:\n",
    "        return(\"perished\")\n",
    "    "
   ]
  },
  {
   "cell_type": "code",
   "execution_count": 3,
   "id": "f8dde2f1",
   "metadata": {},
   "outputs": [],
   "source": [
    "surv = predict_titanic([\"2\",\"24\",\"2\",\"2\",\"75\",\"F\",\"Queenstown\"])"
   ]
  },
  {
   "cell_type": "code",
   "execution_count": 4,
   "id": "4a2891cb",
   "metadata": {},
   "outputs": [
    {
     "data": {
      "text/plain": [
       "'survived'"
      ]
     },
     "execution_count": 4,
     "metadata": {},
     "output_type": "execute_result"
    }
   ],
   "source": [
    "surv "
   ]
  }
 ],
 "metadata": {
  "kernelspec": {
   "display_name": "Python 3 (ipykernel)",
   "language": "python",
   "name": "python3"
  },
  "language_info": {
   "codemirror_mode": {
    "name": "ipython",
    "version": 3
   },
   "file_extension": ".py",
   "mimetype": "text/x-python",
   "name": "python",
   "nbconvert_exporter": "python",
   "pygments_lexer": "ipython3",
   "version": "3.10.10"
  }
 },
 "nbformat": 4,
 "nbformat_minor": 5
}
