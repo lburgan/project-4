{
 "cells": [
  {
   "cell_type": "markdown",
   "id": "ce0728ab",
   "metadata": {},
   "source": [
    "# Final Model: Random Forest"
   ]
  },
  {
   "cell_type": "code",
   "execution_count": 1,
   "id": "3250e57d",
   "metadata": {},
   "outputs": [],
   "source": [
    "import pandas as pd\n",
    "from pathlib import Path\n",
    "from sklearn.model_selection import train_test_split\n",
    "from sklearn.linear_model import LogisticRegression\n",
    "from sklearn.metrics import classification_report,confusion_matrix,accuracy_score\n",
    "from sklearn.preprocessing import StandardScaler\n",
    "from sklearn import tree\n",
    "from sklearn.ensemble import RandomForestClassifier\n",
    "from sklearn.neighbors import KNeighborsClassifier\n",
    "import warnings\n",
    "warnings.filterwarnings(\"ignore\")"
   ]
  },
  {
   "cell_type": "code",
   "execution_count": 2,
   "id": "2c29db56",
   "metadata": {},
   "outputs": [
    {
     "data": {
      "text/html": [
       "<div>\n",
       "<style scoped>\n",
       "    .dataframe tbody tr th:only-of-type {\n",
       "        vertical-align: middle;\n",
       "    }\n",
       "\n",
       "    .dataframe tbody tr th {\n",
       "        vertical-align: top;\n",
       "    }\n",
       "\n",
       "    .dataframe thead th {\n",
       "        text-align: right;\n",
       "    }\n",
       "</style>\n",
       "<table border=\"1\" class=\"dataframe\">\n",
       "  <thead>\n",
       "    <tr style=\"text-align: right;\">\n",
       "      <th></th>\n",
       "      <th>pclass</th>\n",
       "      <th>survived</th>\n",
       "      <th>name</th>\n",
       "      <th>sex</th>\n",
       "      <th>age</th>\n",
       "      <th>sibsp</th>\n",
       "      <th>parch</th>\n",
       "      <th>ticket</th>\n",
       "      <th>fare</th>\n",
       "      <th>cabin</th>\n",
       "      <th>embarked</th>\n",
       "      <th>boat</th>\n",
       "      <th>body</th>\n",
       "      <th>home.dest</th>\n",
       "    </tr>\n",
       "  </thead>\n",
       "  <tbody>\n",
       "    <tr>\n",
       "      <th>0</th>\n",
       "      <td>1.0</td>\n",
       "      <td>1.0</td>\n",
       "      <td>Allen, Miss. Elisabeth Walton</td>\n",
       "      <td>female</td>\n",
       "      <td>29.0000</td>\n",
       "      <td>0.0</td>\n",
       "      <td>0.0</td>\n",
       "      <td>24160</td>\n",
       "      <td>211.3375</td>\n",
       "      <td>B5</td>\n",
       "      <td>S</td>\n",
       "      <td>2</td>\n",
       "      <td>NaN</td>\n",
       "      <td>St Louis, MO</td>\n",
       "    </tr>\n",
       "    <tr>\n",
       "      <th>1</th>\n",
       "      <td>1.0</td>\n",
       "      <td>1.0</td>\n",
       "      <td>Allison, Master. Hudson Trevor</td>\n",
       "      <td>male</td>\n",
       "      <td>0.9167</td>\n",
       "      <td>1.0</td>\n",
       "      <td>2.0</td>\n",
       "      <td>113781</td>\n",
       "      <td>151.5500</td>\n",
       "      <td>C22 C26</td>\n",
       "      <td>S</td>\n",
       "      <td>11</td>\n",
       "      <td>NaN</td>\n",
       "      <td>Montreal, PQ / Chesterville, ON</td>\n",
       "    </tr>\n",
       "    <tr>\n",
       "      <th>2</th>\n",
       "      <td>1.0</td>\n",
       "      <td>0.0</td>\n",
       "      <td>Allison, Miss. Helen Loraine</td>\n",
       "      <td>female</td>\n",
       "      <td>2.0000</td>\n",
       "      <td>1.0</td>\n",
       "      <td>2.0</td>\n",
       "      <td>113781</td>\n",
       "      <td>151.5500</td>\n",
       "      <td>C22 C26</td>\n",
       "      <td>S</td>\n",
       "      <td>NaN</td>\n",
       "      <td>NaN</td>\n",
       "      <td>Montreal, PQ / Chesterville, ON</td>\n",
       "    </tr>\n",
       "    <tr>\n",
       "      <th>3</th>\n",
       "      <td>1.0</td>\n",
       "      <td>0.0</td>\n",
       "      <td>Allison, Mr. Hudson Joshua Creighton</td>\n",
       "      <td>male</td>\n",
       "      <td>30.0000</td>\n",
       "      <td>1.0</td>\n",
       "      <td>2.0</td>\n",
       "      <td>113781</td>\n",
       "      <td>151.5500</td>\n",
       "      <td>C22 C26</td>\n",
       "      <td>S</td>\n",
       "      <td>NaN</td>\n",
       "      <td>135.0</td>\n",
       "      <td>Montreal, PQ / Chesterville, ON</td>\n",
       "    </tr>\n",
       "    <tr>\n",
       "      <th>4</th>\n",
       "      <td>1.0</td>\n",
       "      <td>0.0</td>\n",
       "      <td>Allison, Mrs. Hudson J C (Bessie Waldo Daniels)</td>\n",
       "      <td>female</td>\n",
       "      <td>25.0000</td>\n",
       "      <td>1.0</td>\n",
       "      <td>2.0</td>\n",
       "      <td>113781</td>\n",
       "      <td>151.5500</td>\n",
       "      <td>C22 C26</td>\n",
       "      <td>S</td>\n",
       "      <td>NaN</td>\n",
       "      <td>NaN</td>\n",
       "      <td>Montreal, PQ / Chesterville, ON</td>\n",
       "    </tr>\n",
       "  </tbody>\n",
       "</table>\n",
       "</div>"
      ],
      "text/plain": [
       "   pclass  survived                                             name     sex  \\\n",
       "0     1.0       1.0                    Allen, Miss. Elisabeth Walton  female   \n",
       "1     1.0       1.0                   Allison, Master. Hudson Trevor    male   \n",
       "2     1.0       0.0                     Allison, Miss. Helen Loraine  female   \n",
       "3     1.0       0.0             Allison, Mr. Hudson Joshua Creighton    male   \n",
       "4     1.0       0.0  Allison, Mrs. Hudson J C (Bessie Waldo Daniels)  female   \n",
       "\n",
       "       age  sibsp  parch  ticket      fare    cabin embarked boat   body  \\\n",
       "0  29.0000    0.0    0.0   24160  211.3375       B5        S    2    NaN   \n",
       "1   0.9167    1.0    2.0  113781  151.5500  C22 C26        S   11    NaN   \n",
       "2   2.0000    1.0    2.0  113781  151.5500  C22 C26        S  NaN    NaN   \n",
       "3  30.0000    1.0    2.0  113781  151.5500  C22 C26        S  NaN  135.0   \n",
       "4  25.0000    1.0    2.0  113781  151.5500  C22 C26        S  NaN    NaN   \n",
       "\n",
       "                         home.dest  \n",
       "0                     St Louis, MO  \n",
       "1  Montreal, PQ / Chesterville, ON  \n",
       "2  Montreal, PQ / Chesterville, ON  \n",
       "3  Montreal, PQ / Chesterville, ON  \n",
       "4  Montreal, PQ / Chesterville, ON  "
      ]
     },
     "execution_count": 2,
     "metadata": {},
     "output_type": "execute_result"
    }
   ],
   "source": [
    "csv = Path(\"titanic.csv\")\n",
    "titanic_df = pd.read_csv(csv)\n",
    "titanic_df.head()"
   ]
  },
  {
   "cell_type": "code",
   "execution_count": 3,
   "id": "c880f30f",
   "metadata": {},
   "outputs": [],
   "source": [
    "#drop unecessary columns\n",
    "titanic_df = titanic_df.drop([\"name\",\"ticket\",\"cabin\",\"boat\",\"body\",\"home.dest\"], axis = 1)"
   ]
  },
  {
   "cell_type": "code",
   "execution_count": 4,
   "id": "e216a0ab",
   "metadata": {},
   "outputs": [],
   "source": [
    "#get rid of missing values \n",
    "new_df = titanic_df.dropna()"
   ]
  },
  {
   "cell_type": "code",
   "execution_count": 5,
   "id": "9a23557a",
   "metadata": {},
   "outputs": [
    {
     "data": {
      "text/html": [
       "<div>\n",
       "<style scoped>\n",
       "    .dataframe tbody tr th:only-of-type {\n",
       "        vertical-align: middle;\n",
       "    }\n",
       "\n",
       "    .dataframe tbody tr th {\n",
       "        vertical-align: top;\n",
       "    }\n",
       "\n",
       "    .dataframe thead th {\n",
       "        text-align: right;\n",
       "    }\n",
       "</style>\n",
       "<table border=\"1\" class=\"dataframe\">\n",
       "  <thead>\n",
       "    <tr style=\"text-align: right;\">\n",
       "      <th></th>\n",
       "      <th>pclass</th>\n",
       "      <th>survived</th>\n",
       "      <th>age</th>\n",
       "      <th>sibsp</th>\n",
       "      <th>parch</th>\n",
       "      <th>fare</th>\n",
       "      <th>sex_female</th>\n",
       "      <th>sex_male</th>\n",
       "      <th>embarked_C</th>\n",
       "      <th>embarked_Q</th>\n",
       "      <th>embarked_S</th>\n",
       "    </tr>\n",
       "  </thead>\n",
       "  <tbody>\n",
       "    <tr>\n",
       "      <th>0</th>\n",
       "      <td>1.0</td>\n",
       "      <td>1.0</td>\n",
       "      <td>29.0000</td>\n",
       "      <td>0.0</td>\n",
       "      <td>0.0</td>\n",
       "      <td>211.3375</td>\n",
       "      <td>1</td>\n",
       "      <td>0</td>\n",
       "      <td>0</td>\n",
       "      <td>0</td>\n",
       "      <td>1</td>\n",
       "    </tr>\n",
       "    <tr>\n",
       "      <th>1</th>\n",
       "      <td>1.0</td>\n",
       "      <td>1.0</td>\n",
       "      <td>0.9167</td>\n",
       "      <td>1.0</td>\n",
       "      <td>2.0</td>\n",
       "      <td>151.5500</td>\n",
       "      <td>0</td>\n",
       "      <td>1</td>\n",
       "      <td>0</td>\n",
       "      <td>0</td>\n",
       "      <td>1</td>\n",
       "    </tr>\n",
       "    <tr>\n",
       "      <th>2</th>\n",
       "      <td>1.0</td>\n",
       "      <td>0.0</td>\n",
       "      <td>2.0000</td>\n",
       "      <td>1.0</td>\n",
       "      <td>2.0</td>\n",
       "      <td>151.5500</td>\n",
       "      <td>1</td>\n",
       "      <td>0</td>\n",
       "      <td>0</td>\n",
       "      <td>0</td>\n",
       "      <td>1</td>\n",
       "    </tr>\n",
       "    <tr>\n",
       "      <th>3</th>\n",
       "      <td>1.0</td>\n",
       "      <td>0.0</td>\n",
       "      <td>30.0000</td>\n",
       "      <td>1.0</td>\n",
       "      <td>2.0</td>\n",
       "      <td>151.5500</td>\n",
       "      <td>0</td>\n",
       "      <td>1</td>\n",
       "      <td>0</td>\n",
       "      <td>0</td>\n",
       "      <td>1</td>\n",
       "    </tr>\n",
       "    <tr>\n",
       "      <th>4</th>\n",
       "      <td>1.0</td>\n",
       "      <td>0.0</td>\n",
       "      <td>25.0000</td>\n",
       "      <td>1.0</td>\n",
       "      <td>2.0</td>\n",
       "      <td>151.5500</td>\n",
       "      <td>1</td>\n",
       "      <td>0</td>\n",
       "      <td>0</td>\n",
       "      <td>0</td>\n",
       "      <td>1</td>\n",
       "    </tr>\n",
       "  </tbody>\n",
       "</table>\n",
       "</div>"
      ],
      "text/plain": [
       "   pclass  survived      age  sibsp  parch      fare  sex_female  sex_male  \\\n",
       "0     1.0       1.0  29.0000    0.0    0.0  211.3375           1         0   \n",
       "1     1.0       1.0   0.9167    1.0    2.0  151.5500           0         1   \n",
       "2     1.0       0.0   2.0000    1.0    2.0  151.5500           1         0   \n",
       "3     1.0       0.0  30.0000    1.0    2.0  151.5500           0         1   \n",
       "4     1.0       0.0  25.0000    1.0    2.0  151.5500           1         0   \n",
       "\n",
       "   embarked_C  embarked_Q  embarked_S  \n",
       "0           0           0           1  \n",
       "1           0           0           1  \n",
       "2           0           0           1  \n",
       "3           0           0           1  \n",
       "4           0           0           1  "
      ]
     },
     "execution_count": 5,
     "metadata": {},
     "output_type": "execute_result"
    }
   ],
   "source": [
    "dummy_df = pd.get_dummies(new_df)\n",
    "dummy_df.head()"
   ]
  },
  {
   "cell_type": "code",
   "execution_count": 7,
   "id": "77f8b6be",
   "metadata": {},
   "outputs": [],
   "source": [
    "# Getting target, features and train/testing/splitting the data \n",
    "y_rf = dummy_df[\"survived\"].values.reshape(-1, 1)\n",
    "X_rf = dummy_df.drop(\"survived\", axis = 1)\n",
    "X_trainRF, X_testRF, y_trainRF, y_testRF = train_test_split(X_rf, y_rf, random_state=1912)"
   ]
  },
  {
   "cell_type": "code",
   "execution_count": 8,
   "id": "ef56370d",
   "metadata": {},
   "outputs": [],
   "source": [
    "# Scaling the data \n",
    "scaler = StandardScaler()\n",
    "X_scalerRF = scaler.fit(X_trainRF)\n",
    "X_train_scaledRF = X_scalerRF.transform(X_trainRF)\n",
    "X_test_scaledRF = X_scalerRF.transform(X_testRF)"
   ]
  },
  {
   "cell_type": "code",
   "execution_count": 9,
   "id": "667b96e2",
   "metadata": {},
   "outputs": [],
   "source": [
    "# Creating the Random Forest mode\n",
    "rf_model = RandomForestClassifier(n_estimators=1000, random_state=78)"
   ]
  },
  {
   "cell_type": "code",
   "execution_count": 10,
   "id": "8b0052fb",
   "metadata": {},
   "outputs": [],
   "source": [
    "# Fitting the model \n",
    "rf_model = rf_model.fit(X_train_scaledRF, y_trainRF.ravel())"
   ]
  },
  {
   "cell_type": "code",
   "execution_count": 11,
   "id": "7039e359",
   "metadata": {},
   "outputs": [],
   "source": [
    "# Making predictions \n",
    "predictionsRF = rf_model.predict(X_test_scaledRF)"
   ]
  },
  {
   "cell_type": "code",
   "execution_count": 12,
   "id": "1d56512e",
   "metadata": {},
   "outputs": [
    {
     "data": {
      "text/plain": [
       "0.7931034482758621"
      ]
     },
     "execution_count": 12,
     "metadata": {},
     "output_type": "execute_result"
    }
   ],
   "source": [
    "# Getting the accuracy score \n",
    "accuracy_score(y_testRF,predictionsRF)"
   ]
  },
  {
   "cell_type": "code",
   "execution_count": 15,
   "id": "545649bb",
   "metadata": {},
   "outputs": [],
   "source": [
    "pred_v_surv = X_testRF.copy()\n",
    "pred_v_surv[\"actual_survival\"] = y_testRF\n",
    "pred_v_surv[\"predicted_survival\"] = predictionsRF\n",
    "pred_v_surv.to_csv(\"Model_Predictions.csv\")"
   ]
  },
  {
   "cell_type": "code",
   "execution_count": 80,
   "id": "c72570fa",
   "metadata": {},
   "outputs": [],
   "source": [
    "def predict_titanic():\n",
    "    male = 0\n",
    "    female = 0\n",
    "    embarked_C = 0\n",
    "    embarked_Q = 0\n",
    "    embarked_S = 0\n",
    "    pclass = input(\"What class are you travelling in> (1,2,or 3)\")\n",
    "    age = input(\"How old are you?\")\n",
    "    sibsp = input(\"How many sibglings and/or spouses are with you?\")\n",
    "    parch = input(\"How many parents and/ or children are with you?\")\n",
    "    fare = input(\"How much did you pay for your ticket?\")\n",
    "    sex = input(\"What is your sex? (F/M)\")\n",
    "    embarked = input(\"Where did you embark from? (Queenstown,Cherbourg, or Southampton)\")\n",
    "    if sex == \"M\":\n",
    "        female = 0 \n",
    "        male = 1\n",
    "    elif sex == \"F\":\n",
    "        female = 1\n",
    "        male == 0\n",
    "    elif sex not in (\"M\",\"F\",\"m\",\"f\"):\n",
    "        print(\"Please choose either M for male or F for female\")\n",
    "    if embarked == \"Cherbourg\":\n",
    "        embarked_C = 1\n",
    "        embarked_Q = 0\n",
    "        embarked_S = 0\n",
    "    elif embarked == \"Queenstown\":\n",
    "        embarked_C = 0\n",
    "        embarked_Q = 1\n",
    "        embarked_S = 0 \n",
    "    elif embarked == \"Southampton\":\n",
    "        embarked_C = 0\n",
    "        embarked_Q = 0\n",
    "        embarked_S = 1\n",
    "    elif embarked not in (\"Queenstown\",\"Cherbourg\",\"Southampton\"):\n",
    "        print(\"Please make sure you spelled your embarkation point correctly, including capitalization\")\n",
    "    x_data = pd.DataFrame({\"pclass\":pclass,\n",
    "                           \"age\":age, \n",
    "                           \"sibsp\":sibsp,\n",
    "                           \"parch\":parch,\n",
    "                           \"fare\":fare,\n",
    "                           \"sex_female\":female,\n",
    "                           \"sex_male\":male,\n",
    "                           \"embarked_C\":embarked_C,\n",
    "                          \"embarked_Q\":embarked_Q,\n",
    "                          \"embarked_S\":embarked_S},index=[0])\n",
    "    X_scaler = X_scalerRF.transform(x_data)\n",
    "    prediction = rf_model.predict(X_scaler)\n",
    "    if prediction[0] > 0:\n",
    "        return(\"You survived the sinking of the Titanic\")\n",
    "    else:\n",
    "        return(\"You have perished in the sinking of the Titanic\")\n",
    "    "
   ]
  },
  {
   "cell_type": "code",
   "execution_count": 81,
   "id": "5cc65c51",
   "metadata": {},
   "outputs": [
    {
     "name": "stdout",
     "output_type": "stream",
     "text": [
      "What class are you travelling in> (1,2,or 3)1\n",
      "How old are you?17\n",
      "How many sibglings and/or spouses are with you?0\n",
      "How many parents and/ or children are with you?1\n",
      "How much did you pay for your ticket?512\n",
      "What is your sex? (F/M)F\n",
      "Where did you embark from? (Queenstown,Cherbourg, or Southampton)Southampton\n"
     ]
    },
    {
     "data": {
      "text/plain": [
       "'You survived the sinking of the Titanic'"
      ]
     },
     "execution_count": 81,
     "metadata": {},
     "output_type": "execute_result"
    }
   ],
   "source": [
    "predict_titanic() \n",
    "    \n",
    "        \n",
    "        "
   ]
  },
  {
   "cell_type": "code",
   "execution_count": null,
   "id": "6d5a8d19",
   "metadata": {},
   "outputs": [],
   "source": []
  },
  {
   "cell_type": "code",
   "execution_count": 47,
   "id": "16da2297",
   "metadata": {},
   "outputs": [
    {
     "data": {
      "text/plain": [
       "'You survived the sinking of the Titanic'"
      ]
     },
     "execution_count": 47,
     "metadata": {},
     "output_type": "execute_result"
    }
   ],
   "source": [
    "#Rose's Prediction\"\n",
    "predict_titanic(1,17,0,1,512,1,0,0,0,1)"
   ]
  },
  {
   "cell_type": "code",
   "execution_count": null,
   "id": "50c4cff0",
   "metadata": {},
   "outputs": [],
   "source": []
  },
  {
   "cell_type": "code",
   "execution_count": 49,
   "id": "d2c4b86d",
   "metadata": {},
   "outputs": [
    {
     "data": {
      "text/plain": [
       "'You have perished in the sinking of the Titanic'"
      ]
     },
     "execution_count": 49,
     "metadata": {},
     "output_type": "execute_result"
    }
   ],
   "source": [
    "#Jack's Prediction\n",
    "predict_titanic(3,20,0,0,0,0,1,0,0,1)"
   ]
  },
  {
   "cell_type": "code",
   "execution_count": 54,
   "id": "b26a893f",
   "metadata": {},
   "outputs": [
    {
     "data": {
      "text/plain": [
       "'You survived the sinking of the Titanic'"
      ]
     },
     "execution_count": 54,
     "metadata": {},
     "output_type": "execute_result"
    }
   ],
   "source": [
    "#Irene's Prediction\n",
    "predict_titanic(2,34,1,0,73.5,1,0,0,0,1)"
   ]
  },
  {
   "cell_type": "code",
   "execution_count": 51,
   "id": "494a5518",
   "metadata": {},
   "outputs": [
    {
     "data": {
      "text/plain": [
       "'You survived the sinking of the Titanic'"
      ]
     },
     "execution_count": 51,
     "metadata": {},
     "output_type": "execute_result"
    }
   ],
   "source": [
    "#Kerry's Prediction\n",
    "predict_titanic(2,31,1,0,73.5,1,0,0,0,1)"
   ]
  },
  {
   "cell_type": "code",
   "execution_count": 52,
   "id": "f516205b",
   "metadata": {},
   "outputs": [
    {
     "data": {
      "text/plain": [
       "'You have perished in the sinking of the Titanic'"
      ]
     },
     "execution_count": 52,
     "metadata": {},
     "output_type": "execute_result"
    }
   ],
   "source": [
    "predict_titanic(2,35,1,0,73.5,0,1,0,0,1)"
   ]
  },
  {
   "cell_type": "code",
   "execution_count": 65,
   "id": "a7113bea",
   "metadata": {},
   "outputs": [],
   "source": [
    "models =  [\"Logistic Regression\",\"Logistic w/ PCA\",\"Decision Tree\",\"Random Forest\",\"Random Forest w/ dropping features\" ,\n",
    "    \"K-Nearest Neighbors\" ,\n",
    "    \"K-Nearest Neighbors w/ dropping features\",\n",
    "    \"Neural Network w/ 4 layers\"]\n",
    "accuracies= [.74,.67,.78,.79,.76,.78,.75,.77]\n",
    "\n",
    "attempts_df = pd.DataFrame({\"Model\":models,\"Accuracy\":accuracies})\n",
    "attempts_df.to_csv(\"Model_Progression.csv\")"
   ]
  },
  {
   "cell_type": "code",
   "execution_count": 83,
   "id": "9d1a74a3",
   "metadata": {},
   "outputs": [
    {
     "name": "stdout",
     "output_type": "stream",
     "text": [
      "What class are you travelling in> (1,2,or 3)3\n",
      "How old are you?18\n",
      "How many sibglings and/or spouses are with you?4\n",
      "How many parents and/ or children are with you?2\n",
      "How much did you pay for your ticket?4\n",
      "What is your sex? (F/M)M\n",
      "Where did you embark from? (Queenstown,Cherbourg, or Southampton)Queenstown\n"
     ]
    },
    {
     "data": {
      "text/plain": [
       "'You have perished in the sinking of the Titanic'"
      ]
     },
     "execution_count": 83,
     "metadata": {},
     "output_type": "execute_result"
    }
   ],
   "source": [
    "predict_titanic()"
   ]
  }
 ],
 "metadata": {
  "kernelspec": {
   "display_name": "Python 3 (ipykernel)",
   "language": "python",
   "name": "python3"
  },
  "language_info": {
   "codemirror_mode": {
    "name": "ipython",
    "version": 3
   },
   "file_extension": ".py",
   "mimetype": "text/x-python",
   "name": "python",
   "nbconvert_exporter": "python",
   "pygments_lexer": "ipython3",
   "version": "3.10.10"
  }
 },
 "nbformat": 4,
 "nbformat_minor": 5
}
